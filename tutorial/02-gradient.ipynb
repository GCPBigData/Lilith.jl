{
 "cells": [
  {
   "cell_type": "markdown",
   "metadata": {},
   "source": [
    "# 02. Gradient calculation"
   ]
  },
  {
   "cell_type": "markdown",
   "metadata": {},
   "source": [
    "Most deep learning models are trained using some variation of gradient descent method. The idea behind this method is as follows: \n",
    "\n",
    "1. You define loss function - something you want to minimize, e.g. square difference between predicted and actual output. \n",
    "2. Then you calculate partial derivatives of this loss function with respect to its parameters. Vector of partial derivatives is called gradient. \n",
    "3. Finally, you update the parameters towards minimizing the loss function, where direction and magnitude of the update are proportional to corresponding gradient value. \n",
    "\n",
    "For more information on gradient descent see e.g. [this cheatsheet](https://ml-cheatsheet.readthedocs.io/en/latest/gradient_descent.html)."
   ]
  },
  {
   "cell_type": "markdown",
   "metadata": {},
   "source": [
    "In Lilith you can calculate gradient of any scalar-valued function. For example, consider such a loss function:"
   ]
  },
  {
   "cell_type": "code",
   "execution_count": 5,
   "metadata": {},
   "outputs": [
    {
     "data": {
      "text/plain": [
       "2.2992492304954895"
      ]
     },
     "execution_count": 5,
     "metadata": {},
     "output_type": "execute_result"
    }
   ],
   "source": [
    "function my_loss(y_pred::Vector, y_true::Vector)\n",
    "    return sum((y_pred .- y_true) .^ 2)\n",
    "end\n",
    "\n",
    "y_pred = rand(10)\n",
    "y_true = rand(10)\n",
    "\n",
    "my_loss(y_pred, y_true)\n"
   ]
  },
  {
   "cell_type": "markdown",
   "metadata": {},
   "source": [
    "Now we can calculate value of the function and gradients w.r.t. to its parameters with a single call to `grad()`. Note that due to function tracing and gradient compilation the first run make take quite long."
   ]
  },
  {
   "cell_type": "code",
   "execution_count": 6,
   "metadata": {},
   "outputs": [
    {
     "data": {
      "text/plain": [
       "(2.2992492304954895, GradResult(2))"
      ]
     },
     "execution_count": 6,
     "metadata": {},
     "output_type": "execute_result"
    }
   ],
   "source": [
    "using Lilith\n",
    "\n",
    "val, g = grad(my_loss, y_pred, y_true)"
   ]
  },
  {
   "cell_type": "markdown",
   "metadata": {},
   "source": [
    "`val` is the same value of the function call that we've seen earlier, and `g` is a `GradResult` object, containing gradients for each parameter:"
   ]
  },
  {
   "cell_type": "code",
   "execution_count": 7,
   "metadata": {},
   "outputs": [
    {
     "name": "stdout",
     "output_type": "stream",
     "text": [
      "[-0.87848431743822, 1.2165144839180422, -0.5007782854022085, -1.6989762691502182, 0.15510918492280146, 0.2399934876212826, 1.3228758302794104, -1.4021136439424584, 0.08987909227352509, -0.04897310185926251][0.87848431743822, -1.2165144839180422, 0.5007782854022085, 1.6989762691502182, -0.15510918492280146, -0.2399934876212826, -1.3228758302794104, 1.4021136439424584, -0.08987909227352509, 0.04897310185926251]"
     ]
    }
   ],
   "source": [
    "print(g[1])    # gradient of my_loss w.r.t. 1st parameter, i.e. y_pred\n",
    "print(g[2])    # gradient of my_loss w.r.t. 2nd parameter, i.e. y_true"
   ]
  }
 ],
 "metadata": {
  "kernelspec": {
   "display_name": "Julia 1.3.0",
   "language": "julia",
   "name": "julia-1.3"
  },
  "language_info": {
   "file_extension": ".jl",
   "mimetype": "application/julia",
   "name": "julia",
   "version": "1.3.0"
  }
 },
 "nbformat": 4,
 "nbformat_minor": 4
}
